{
 "cells": [
  {
   "cell_type": "code",
   "execution_count": null,
   "metadata": {},
   "outputs": [],
   "source": [
    "from mpl_toolkits.mplot3d import Axes3D\n",
    "from sklearn.preprocessing import StandardScaler\n",
    "\n",
    "import matplotlib.pyplot as plt\n",
    "import numpy as np \n",
    "import os \n",
    "import pandas as pd "
   ]
  },
  {
   "cell_type": "code",
   "execution_count": 23,
   "metadata": {},
   "outputs": [
    {
     "name": "stdout",
     "output_type": "stream",
     "text": [
      "['emnist-letters-train.csv', 'emnist-letters-test.csv']\n"
     ]
    }
   ],
   "source": [
    "print(os.listdir('input'))"
   ]
  },
  {
   "cell_type": "code",
   "execution_count": 25,
   "metadata": {},
   "outputs": [
    {
     "name": "stdout",
     "output_type": "stream",
     "text": [
      "There are 88799 rows and 785 columns\n"
     ]
    }
   ],
   "source": [
    "nRowsRead =  None\n",
    "df = pd.read_csv('input/emnist-letters-train.csv', delimiter=',', nrows = nRowsRead)\n",
    "df.dataframeName = 'emnist-letters-train.csv'\n",
    "nRow, nCol = df.shape\n",
    "print(f'There are {nRow} rows and {nCol} columns')"
   ]
  },
  {
   "cell_type": "code",
   "execution_count": 80,
   "metadata": {},
   "outputs": [
    {
     "name": "stdout",
     "output_type": "stream",
     "text": [
      "Columns: Index(['23', '0', '0.1', '0.2', '0.3', '0.4', '0.5', '0.6', '0.7', '0.8',\n",
      "       ...\n",
      "       '0.406', '0.407', '0.408', '0.409', '0.410', '0.411', '0.412', '0.413',\n",
      "       '0.414', '0.415'],\n",
      "      dtype='object', length=785)\n"
     ]
    }
   ],
   "source": [
    "print(f\"Columns: {df.columns.str.strip()}\")\n",
    "\n",
    "# print(df.head())"
   ]
  },
  {
   "cell_type": "code",
   "execution_count": 100,
   "metadata": {},
   "outputs": [
    {
     "data": {
      "image/png": "[encoded data removed]",
      "text/plain": [
       "<Figure size 640x480 with 1 Axes>"
      ]
     },
     "metadata": {},
     "output_type": "display_data"
    }
   ],
   "source": [
    "def get_alpha(n):\n",
    "    return chr(ord('`')+n)\n",
    "    \n",
    "import random\n",
    "def vis_sample(df, index=random.randint(1,10000)):\n",
    "    img = df.iloc[index, 1:].values.reshape(28, 28)\n",
    "    plt.imshow(img, cmap='gray')\n",
    "    nm =  df.iloc[index, 0]\n",
    "    plt.title(f\"Label: {nm} : {get_alpha(nm)}\" )\n",
    "    plt.axis('off')\n",
    "    plt.show()\n",
    "\n",
    "vis_sample(df)"
   ]
  },
  {
   "cell_type": "code",
   "execution_count": 102,
   "metadata": {},
   "outputs": [],
   "source": [
    "X = df.iloc[:, 1:].values / 255.0 \n",
    "y = df.iloc[:, 0].values"
   ]
  },
  {
   "cell_type": "code",
   "execution_count": 116,
   "metadata": {},
   "outputs": [],
   "source": [
    "from sklearn.model_selection import train_test_split\n",
    "\n",
    "X_train, X_test, y_train, y_test = train_test_split(X, y, test_size = 0.2, random_state = 0)\n"
   ]
  },
  {
   "cell_type": "code",
   "execution_count": 118,
   "metadata": {},
   "outputs": [
    {
     "data": {
      "text/plain": [
       "((71039, 784), (17760, 784))"
      ]
     },
     "execution_count": 118,
     "metadata": {},
     "output_type": "execute_result"
    }
   ],
   "source": [
    "X_train.shape, X_test.shape"
   ]
  },
  {
   "cell_type": "code",
   "execution_count": null,
   "metadata": {},
   "outputs": [],
   "source": [
    "# 3. Implement SVM (using Binary Coded approach)\n",
    "clf = OutputCodeClassifier(\n",
    "    estimator=LinearSVC(random_state=42),\n",
    "    code_size=0.5,  # This will use a code length of n_classes / 2\n",
    "    random_state=42\n",
    ")\n",
    "\n",
    "# 4. Model Training\n",
    "clf.fit(X_train_scaled, y_train)\n",
    "\n",
    "# 5. Make Predictions\n",
    "y_pred = clf.predict(X_test_scaled)"
   ]
  },
  {
   "cell_type": "code",
   "execution_count": null,
   "metadata": {},
   "outputs": [],
   "source": [
    "print(classification_report(y_test, y_pred))"
   ]
  },
  {
   "cell_type": "code",
   "execution_count": null,
   "metadata": {},
   "outputs": [],
   "source": []
  }
 ],
 "metadata": {
  "kernelspec": {
   "display_name": "Python 3 (ipykernel)",
   "language": "python",
   "name": "python3"
  },
  "language_info": {
   "codemirror_mode": {
    "name": "ipython",
    "version": 3
   },
   "file_extension": ".py",
   "mimetype": "text/x-python",
   "name": "python",
   "nbconvert_exporter": "python",
   "pygments_lexer": "ipython3",
   "version": "3.12.4"
  }
 },
 "nbformat": 4,
 "nbformat_minor": 4
}
