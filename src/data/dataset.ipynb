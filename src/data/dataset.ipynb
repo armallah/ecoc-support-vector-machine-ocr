{
 "cells": [
  {
   "cell_type": "code",
   "execution_count": 17,
   "metadata": {},
   "outputs": [],
   "source": [
    "from mpl_toolkits.mplot3d import Axes3D\n",
    "from sklearn.preprocessing import StandardScaler\n",
    "\n",
    "import matplotlib.pyplot as plt\n",
    "import numpy as np \n",
    "import os \n",
    "import pandas as pd "
   ]
  },
  {
   "cell_type": "code",
   "execution_count": 23,
   "metadata": {},
   "outputs": [
    {
     "name": "stdout",
     "output_type": "stream",
     "text": [
      "['emnist-letters-train.csv', 'emnist-letters-test.csv']\n"
     ]
    }
   ],
   "source": [
    "print(os.listdir('input'))"
   ]
  },
  {
   "cell_type": "code",
   "execution_count": 25,
   "metadata": {},
   "outputs": [
    {
     "name": "stdout",
     "output_type": "stream",
     "text": [
      "There are 88799 rows and 785 columns\n"
     ]
    }
   ],
   "source": [
    "nRowsRead =  None\n",
    "df = pd.read_csv('input/emnist-letters-train.csv', delimiter=',', nrows = nRowsRead)\n",
    "df.dataframeName = 'emnist-letters-train.csv'\n",
    "nRow, nCol = df.shape\n",
    "print(f'There are {nRow} rows and {nCol} columns')"
   ]
  },
  {
   "cell_type": "code",
   "execution_count": 26,
   "metadata": {},
   "outputs": [
    {
     "name": "stdout",
     "output_type": "stream",
     "text": [
      "Columns: Index(['23', '0', '0.1', '0.2', '0.3', '0.4', '0.5', '0.6', '0.7', '0.8',\n",
      "       ...\n",
      "       '0.406', '0.407', '0.408', '0.409', '0.410', '0.411', '0.412', '0.413',\n",
      "       '0.414', '0.415'],\n",
      "      dtype='object', length=785)\n",
      "   23  0  0.1  0.2  0.3  0.4  0.5  0.6  0.7  0.8  ...  0.406  0.407  0.408  \\\n",
      "0   7  0    0    0    0    0    0    0    0    0  ...      0      0      0   \n",
      "1  16  0    0    0    0    0    0    0    0    0  ...      0      0      0   \n",
      "2  15  0    0    0    0    0    0    0    0    0  ...      0      0      0   \n",
      "3  23  0    0    0    0    0    0    0    0    0  ...      0      0      0   \n",
      "4  17  0    0    0    0    0    0    0    0    0  ...      0      0      0   \n",
      "\n",
      "   0.409  0.410  0.411  0.412  0.413  0.414  0.415  \n",
      "0      0      0      0      0      0      0      0  \n",
      "1      0      0      0      0      0      0      0  \n",
      "2      0      0      0      0      0      0      0  \n",
      "3      0      0      0      0      0      0      0  \n",
      "4      0      0      0      0      0      0      0  \n",
      "\n",
      "[5 rows x 785 columns]\n"
     ]
    }
   ],
   "source": [
    "print(f\"Columns: {df.columns.str.strip()}\")\n",
    "\n",
    "print(df.head())"
   ]
  },
  {
   "cell_type": "code",
   "execution_count": null,
   "metadata": {},
   "outputs": [],
   "source": []
  }
 ],
 "metadata": {
  "kernelspec": {
   "display_name": "Python 3 (ipykernel)",
   "language": "python",
   "name": "python3"
  },
  "language_info": {
   "codemirror_mode": {
    "name": "ipython",
    "version": 3
   },
   "file_extension": ".py",
   "mimetype": "text/x-python",
   "name": "python",
   "nbconvert_exporter": "python",
   "pygments_lexer": "ipython3",
   "version": "3.12.4"
  }
 },
 "nbformat": 4,
 "nbformat_minor": 4
}
